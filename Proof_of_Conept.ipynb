{
  "nbformat": 4,
  "nbformat_minor": 0,
  "metadata": {
    "colab": {
      "provenance": [],
      "gpuType": "T4"
    },
    "kernelspec": {
      "name": "python3",
      "display_name": "Python 3"
    },
    "language_info": {
      "name": "python"
    },
    "accelerator": "GPU"
  },
  "cells": [
    {
      "cell_type": "code",
      "execution_count": 1,
      "metadata": {
        "colab": {
          "base_uri": "https://localhost:8080/"
        },
        "id": "BPmGaUWuUsUc",
        "outputId": "14efddbb-256c-4526-963b-f3bf3bc89a44"
      },
      "outputs": [
        {
          "output_type": "stream",
          "name": "stdout",
          "text": [
            "Drive already mounted at /content/drive; to attempt to forcibly remount, call drive.mount(\"/content/drive\", force_remount=True).\n"
          ]
        }
      ],
      "source": [
        "from google.colab import drive\n",
        "drive.mount('/content/drive')"
      ]
    },
    {
      "cell_type": "code",
      "source": [
        "!pip install PyPDF2\n",
        "\n",
        "import PyPDF2\n",
        "import torch\n",
        "from transformers import AutoTokenizer, T5EncoderModel\n",
        "\n",
        "tokenizer = AutoTokenizer.from_pretrained(\"google-t5/t5-small\")\n",
        "model = T5EncoderModel.from_pretrained(\"google-t5/t5-small\")"
      ],
      "metadata": {
        "colab": {
          "base_uri": "https://localhost:8080/"
        },
        "id": "ZBxLrT8KWchC",
        "outputId": "8185ed8c-5ca8-45e0-e059-5580fd6c7912"
      },
      "execution_count": 157,
      "outputs": [
        {
          "output_type": "stream",
          "name": "stdout",
          "text": [
            "Requirement already satisfied: PyPDF2 in /usr/local/lib/python3.10/dist-packages (3.0.1)\n"
          ]
        }
      ]
    },
    {
      "cell_type": "code",
      "source": [
        "input_ids = tokenizer('India is in Asia', return_tensors = 'pt').input_ids\n",
        "query_ids = tokenizer('Where is the India? ', return_tensors = 'pt').input_ids"
      ],
      "metadata": {
        "id": "VBzyu3oZIdzV"
      },
      "execution_count": 189,
      "outputs": []
    },
    {
      "cell_type": "code",
      "source": [
        "outputs = model(input_ids=input_ids)\n",
        "query = model(input_ids = query_ids)"
      ],
      "metadata": {
        "id": "g7IwMoTkIdv8"
      },
      "execution_count": 190,
      "outputs": []
    },
    {
      "cell_type": "code",
      "source": [
        "last_hidden_states = outputs.last_hidden_state\n",
        "last_hidden_states.shape"
      ],
      "metadata": {
        "colab": {
          "base_uri": "https://localhost:8080/"
        },
        "id": "r0YJSnvhIdr2",
        "outputId": "26505448-0fe9-4893-d164-e7350b6f89f7"
      },
      "execution_count": 191,
      "outputs": [
        {
          "output_type": "execute_result",
          "data": {
            "text/plain": [
              "torch.Size([1, 5, 512])"
            ]
          },
          "metadata": {},
          "execution_count": 191
        }
      ]
    },
    {
      "cell_type": "code",
      "source": [
        "last_hidden_states_query = query.last_hidden_state\n",
        "last_hidden_states_query.shape"
      ],
      "metadata": {
        "colab": {
          "base_uri": "https://localhost:8080/"
        },
        "id": "6Dpric29Idnv",
        "outputId": "da0c4c03-c845-423d-8776-809684579861"
      },
      "execution_count": 192,
      "outputs": [
        {
          "output_type": "execute_result",
          "data": {
            "text/plain": [
              "torch.Size([1, 6, 512])"
            ]
          },
          "metadata": {},
          "execution_count": 192
        }
      ]
    },
    {
      "cell_type": "code",
      "source": [
        "# Apply max pooling along the token dimension (dim=1)\n",
        "pooled_last_hidden_states = torch.max(last_hidden_states, dim=1).values.unsqueeze(0)  # Add batch dimension\n",
        "pooled_last_hidden_states_query = torch.max(last_hidden_states_query, dim=1).values.unsqueeze(0)  # Add batch dimension\n",
        "\n",
        "# Reshape pooled_last_hidden_states_query to match the shape of pooled_last_hidden_states\n",
        "pooled_last_hidden_states_query = pooled_last_hidden_states_query.view(1, -1)\n",
        "\n",
        "# Compute dot product between the pooled representations\n",
        "similarity = torch.matmul(pooled_last_hidden_states, pooled_last_hidden_states_query.T)\n",
        "\n",
        "# Print similarity score\n",
        "print(\"Similarity Score:\", similarity.item())\n"
      ],
      "metadata": {
        "colab": {
          "base_uri": "https://localhost:8080/"
        },
        "id": "Xl0YjZsHPI-Q",
        "outputId": "7661523f-c275-4a66-d715-b4cf906b3986"
      },
      "execution_count": 193,
      "outputs": [
        {
          "output_type": "stream",
          "name": "stdout",
          "text": [
            "Similarity Score: 15.463321685791016\n"
          ]
        }
      ]
    },
    {
      "cell_type": "code",
      "source": [],
      "metadata": {
        "id": "ZtB7-TYe74tE"
      },
      "execution_count": null,
      "outputs": []
    },
    {
      "cell_type": "code",
      "source": [],
      "metadata": {
        "id": "73CvptqA74xR"
      },
      "execution_count": null,
      "outputs": []
    },
    {
      "cell_type": "code",
      "source": [],
      "metadata": {
        "id": "upRjN1Dd741Y"
      },
      "execution_count": null,
      "outputs": []
    },
    {
      "cell_type": "code",
      "source": [],
      "metadata": {
        "id": "I822zg_o745j"
      },
      "execution_count": null,
      "outputs": []
    },
    {
      "cell_type": "code",
      "source": [],
      "metadata": {
        "id": "aIVyO0vcpKx8"
      },
      "execution_count": null,
      "outputs": []
    }
  ]
}