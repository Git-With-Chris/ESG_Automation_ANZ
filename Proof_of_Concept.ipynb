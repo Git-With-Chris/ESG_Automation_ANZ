{
  "cells": [
    {
      "cell_type": "code",
      "execution_count": null,
      "metadata": {
        "colab": {
          "base_uri": "https://localhost:8080/"
        },
        "id": "ZBxLrT8KWchC",
        "outputId": "8185ed8c-5ca8-45e0-e059-5580fd6c7912"
      },
      "outputs": [],
      "source": [
        "# Dependency installation code\n",
        "# !pip install PyPDF2 torch transformers\n",
        "\n",
        "# Import dependencies\n",
        "import PyPDF2\n",
        "import torch\n",
        "from transformers import AutoTokenizer, T5EncoderModel\n",
        "\n",
        "# Load T5EncoderModel\n",
        "tokenizer = AutoTokenizer.from_pretrained(\"google-t5/t5-small\")\n",
        "model = T5EncoderModel.from_pretrained(\"google-t5/t5-small\")"
      ]
    },
    {
      "cell_type": "code",
      "execution_count": 27,
      "metadata": {
        "id": "VBzyu3oZIdzV"
      },
      "outputs": [],
      "source": [
        "# Tokenize Input sentence and query\n",
        "input_ids = tokenizer('Our product is sustainable', return_tensors = 'pt').input_ids\n",
        "query_ids = tokenizer('Sustainable ', return_tensors = 'pt').input_ids\n",
        "\n",
        "# Generate Encodings\n",
        "outputs = model(input_ids=input_ids)\n",
        "query = model(input_ids = query_ids)\n",
        "\n",
        "# Retrieve encodings for sentence and query.\n",
        "last_hidden_states = outputs.last_hidden_state\n",
        "last_hidden_states_query = query.last_hidden_state\n"
      ]
    },
    {
      "cell_type": "code",
      "execution_count": 28,
      "metadata": {
        "colab": {
          "base_uri": "https://localhost:8080/"
        },
        "id": "Xl0YjZsHPI-Q",
        "outputId": "7661523f-c275-4a66-d715-b4cf906b3986"
      },
      "outputs": [
        {
          "name": "stdout",
          "output_type": "stream",
          "text": [
            "Similarity Score: 9.385696411132812\n"
          ]
        }
      ],
      "source": [
        "# Apply max pooling along the token dimension (dim=1)\n",
        "pooled_last_hidden_states = torch.max(last_hidden_states, dim=1).values.unsqueeze(0)  # Add batch dimension\n",
        "pooled_last_hidden_states_query = torch.max(last_hidden_states_query, dim=1).values.unsqueeze(0)  # Add batch dimension\n",
        "\n",
        "# Reshape pooled_last_hidden_states_query to match the shape of pooled_last_hidden_states\n",
        "pooled_last_hidden_states_query = pooled_last_hidden_states_query.view(1, -1)\n",
        "\n",
        "# Compute dot product between the pooled representations\n",
        "similarity = torch.matmul(pooled_last_hidden_states, pooled_last_hidden_states_query.T)\n",
        "\n",
        "# Print similarity score\n",
        "print(\"Similarity Score:\", similarity.item())\n"
      ]
    },
    {
      "cell_type": "markdown",
      "metadata": {},
      "source": [
        "Current Results:\n",
        "\n",
        "| Sentence                     | Query                        | Score |\n",
        "|------------------------------|------------------------------|-------|\n",
        "| 'This product is sustainable'| 'Where is the India? '       | 14.40 |\n",
        "| 'India is in Asia'           | 'Where is the India? '       | 15.46 |\n",
        "| 'Our product is sustainable' | 'Sustainable '               | 09.38 |\n"
      ]
    },
    {
      "cell_type": "code",
      "execution_count": null,
      "metadata": {},
      "outputs": [],
      "source": []
    },
    {
      "cell_type": "code",
      "execution_count": null,
      "metadata": {
        "id": "ZtB7-TYe74tE"
      },
      "outputs": [],
      "source": []
    },
    {
      "cell_type": "code",
      "execution_count": null,
      "metadata": {
        "id": "73CvptqA74xR"
      },
      "outputs": [],
      "source": []
    },
    {
      "cell_type": "code",
      "execution_count": null,
      "metadata": {
        "id": "upRjN1Dd741Y"
      },
      "outputs": [],
      "source": []
    },
    {
      "cell_type": "code",
      "execution_count": null,
      "metadata": {
        "id": "I822zg_o745j"
      },
      "outputs": [],
      "source": []
    },
    {
      "cell_type": "code",
      "execution_count": null,
      "metadata": {
        "id": "aIVyO0vcpKx8"
      },
      "outputs": [],
      "source": []
    }
  ],
  "metadata": {
    "accelerator": "GPU",
    "colab": {
      "gpuType": "T4",
      "provenance": []
    },
    "kernelspec": {
      "display_name": "Python 3",
      "name": "python3"
    },
    "language_info": {
      "codemirror_mode": {
        "name": "ipython",
        "version": 3
      },
      "file_extension": ".py",
      "mimetype": "text/x-python",
      "name": "python",
      "nbconvert_exporter": "python",
      "pygments_lexer": "ipython3",
      "version": "3.10.13"
    }
  },
  "nbformat": 4,
  "nbformat_minor": 0
}
