{
 "cells": [
  {
   "cell_type": "code",
   "execution_count": 1,
   "metadata": {},
   "outputs": [
    {
     "name": "stderr",
     "output_type": "stream",
     "text": [
      "/opt/homebrew/Caskroom/miniconda/base/envs/pgrd/lib/python3.10/site-packages/tqdm/auto.py:21: TqdmWarning: IProgress not found. Please update jupyter and ipywidgets. See https://ipywidgets.readthedocs.io/en/stable/user_install.html\n",
      "  from .autonotebook import tqdm as notebook_tqdm\n"
     ]
    }
   ],
   "source": [
    "import sys\n",
    "import time\n",
    "\n",
    "sys.path.append(\"../Scripts/\")\n",
    "\n",
    "import pandas as pd\n",
    "from pdf_parser import sentence_parser\n",
    "from sentence_transformers import SentenceTransformer, util\n",
    "\n",
    "# Specify the model\n",
    "mvp_v2_model = SentenceTransformer(\"all-mpnet-base-v2\")\n",
    "maximum_lines = 5\n",
    "\n"
   ]
  },
  {
   "cell_type": "code",
   "execution_count": 2,
   "metadata": {},
   "outputs": [],
   "source": [
    "# Retieve Sentences from the report\n",
    "def parse(file_path):\n",
    "    pdf_sentences = sentence_parser(\n",
    "        file_path, print_sentences=False, num_sentences=10, parsing_method=\"pypdf\"\n",
    "    )\n",
    "    return [p['Sentence'] for p in pdf_sentences]\n",
    "\n",
    "def execute_query(parsed_sentences, current_query, filename):\n",
    "    # Record the end time\n",
    "    start_time = time.time()\n",
    "\n",
    "    # Create Embeddings for query\n",
    "    query_embedding = mvp_v2_model.encode(current_query)\n",
    "\n",
    "    # Create Embeddings for retrieved sentences\n",
    "    sentence_embedding = mvp_v2_model.encode(parsed_sentences)\n",
    "\n",
    "    # Compute similarity scores\n",
    "    scores = util.cos_sim(query_embedding, sentence_embedding)[0]\n",
    "\n",
    "    # Record the end time\n",
    "    end_time = time.time()\n",
    "    # Calculate the total time taken\n",
    "    execution_time = end_time - start_time\n",
    "\n",
    "    print(\"Execution Time:\", execution_time, \"seconds\")\n",
    "\n",
    "    # Create a DataFrame\n",
    "    df = pd.DataFrame(\n",
    "        {\n",
    "            \"Sentence_ID\": range(1, len(parsed_sentences) + 1),\n",
    "            \"Sentence\": parsed_sentences,\n",
    "            \"Score\": scores.tolist(),\n",
    "        }\n",
    "    )\n",
    "\n",
    "    sorted_df = df.sort_values(by=\"Score\", ascending=False)\n",
    "    sorted_df = sorted_df.head(maximum_lines)\n",
    "    # Uncomment to save the scores\n",
    "    sorted_df.to_csv(f\"tmp/{filename}_{current_query}.csv\", index=False)\n",
    "\n"
   ]
  },
  {
   "cell_type": "code",
   "execution_count": 3,
   "metadata": {},
   "outputs": [],
   "source": [
    "# Declare test query here\n",
    "queries = [\n",
    "    \"Related to ethical sourcing\",\n",
    "    \"Related to Modern Slavery\",\n",
    "    \"Investment in Renewable Energy\",\n",
    "    \"sustainable packaging\",\n",
    "    \"recycling\",\n",
    "    \"reducing waste\",\n",
    "    \"carbon emissions\",\n",
    "    \"reduction in ghg emissions\",\n",
    "    \"net zero\",\n",
    "    'scope 1',\n",
    "    \"scope 2\",\n",
    "    \"scope 3\",\n",
    "    \"carbon offset\",\n",
    "    \"sustainable product\"\n",
    "]"
   ]
  },
  {
   "cell_type": "markdown",
   "metadata": {},
   "source": [
    "# Baby Bunting"
   ]
  },
  {
   "cell_type": "code",
   "execution_count": 4,
   "metadata": {},
   "outputs": [
    {
     "name": "stdout",
     "output_type": "stream",
     "text": [
      "\n",
      "Summary:\n",
      "Total number of sentences: 1167\n",
      "Execution Time: 17.35959482192993 seconds\n",
      "Execution Time: 14.142327785491943 seconds\n",
      "Execution Time: 13.053298950195312 seconds\n",
      "Execution Time: 13.226266145706177 seconds\n",
      "Execution Time: 13.159518003463745 seconds\n",
      "Execution Time: 14.068059206008911 seconds\n",
      "Execution Time: 14.22685194015503 seconds\n",
      "Execution Time: 13.999032020568848 seconds\n",
      "Execution Time: 14.16236686706543 seconds\n",
      "Execution Time: 14.292062997817993 seconds\n",
      "Execution Time: 14.421489953994751 seconds\n",
      "Execution Time: 14.759880781173706 seconds\n",
      "Execution Time: 14.57327914237976 seconds\n",
      "Execution Time: 14.582238912582397 seconds\n"
     ]
    }
   ],
   "source": [
    "pdf_sentences = parse('../SampleReports/2022_BBunting_Report.pdf')\n",
    "\n",
    "for q in queries:\n",
    "    execute_query(pdf_sentences, q, 'Baby_bunt_')"
   ]
  },
  {
   "cell_type": "code",
   "execution_count": 5,
   "metadata": {},
   "outputs": [
    {
     "name": "stdout",
     "output_type": "stream",
     "text": [
      "\n",
      "Summary:\n",
      "Total number of sentences: 375\n",
      "Execution Time: 6.166338920593262 seconds\n",
      "Execution Time: 4.947556972503662 seconds\n",
      "Execution Time: 4.974768877029419 seconds\n",
      "Execution Time: 4.896899938583374 seconds\n",
      "Execution Time: 4.917685031890869 seconds\n",
      "Execution Time: 5.11457896232605 seconds\n",
      "Execution Time: 4.912309885025024 seconds\n",
      "Execution Time: 4.8960840702056885 seconds\n",
      "Execution Time: 5.169673919677734 seconds\n",
      "Execution Time: 5.024552822113037 seconds\n",
      "Execution Time: 5.502887964248657 seconds\n",
      "Execution Time: 5.484130144119263 seconds\n",
      "Execution Time: 5.218505859375 seconds\n",
      "Execution Time: 5.477402210235596 seconds\n"
     ]
    }
   ],
   "source": [
    "pdf_sentences = parse('../SampleReports/Metcash-Sustainability-Report-2022.pdf')\n",
    "\n",
    "for q in queries:\n",
    "    execute_query(pdf_sentences, q, 'Metcash_')"
   ]
  }
 ],
 "metadata": {
  "kernelspec": {
   "display_name": "pgrd",
   "language": "python",
   "name": "python3"
  },
  "language_info": {
   "codemirror_mode": {
    "name": "ipython",
    "version": 3
   },
   "file_extension": ".py",
   "mimetype": "text/x-python",
   "name": "python",
   "nbconvert_exporter": "python",
   "pygments_lexer": "ipython3",
   "version": "3.10.13"
  }
 },
 "nbformat": 4,
 "nbformat_minor": 2
}
