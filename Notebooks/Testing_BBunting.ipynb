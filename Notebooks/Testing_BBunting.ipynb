{
 "cells": [
  {
   "cell_type": "code",
   "execution_count": 1,
   "metadata": {},
   "outputs": [
    {
     "name": "stderr",
     "output_type": "stream",
     "text": [
      "/opt/homebrew/Caskroom/miniconda/base/envs/pgrd/lib/python3.10/site-packages/tqdm/auto.py:21: TqdmWarning: IProgress not found. Please update jupyter and ipywidgets. See https://ipywidgets.readthedocs.io/en/stable/user_install.html\n",
      "  from .autonotebook import tqdm as notebook_tqdm\n"
     ]
    },
    {
     "name": "stdout",
     "output_type": "stream",
     "text": [
      "Report located in specified directory\n",
      "\n",
      "Summary:\n",
      "Total number of sentences: 1071\n",
      "\n",
      " Baby Bunting Annual Report 2022a Annual Report 2022 Baby Bunting Group Limited ABN 58 128 533 693 The 2022 Baby Bunting Annual Report reflects Baby Bunting’s performance for the 52 week period from 28 June 2021 to 26 June 2022.\n",
      "\n",
      " The Baby Bunting Group Limited Annual Report is available online at babybunting.com.au/investor.\n",
      "\n",
      " Hard copies can be obtained by contacting the Company’s share registry.\n",
      "\n",
      " Contents 8 Chair and CEO’s report14 Store network16 Sustainability20 The board23 Corporate governance statement36 Directors’ report55 Remuneration report77 Auditor’s independence declaration78 Financial report124 Directors’ declaration125 Independent auditor’s report130 Shareholder information133 Corporate directory Baby Bunting Annual Report 20221Notice of 2022 Annual General Meeting 10.00am (Melbourne time) Tuesday, 11 October 2022Further details will be contained in the Notice of Annual General Meeting that will be made available in September 2022.\n",
      "\n",
      " Vision: to be the most loved baby retailer for every family, everywhere.2About Baby Bunting Baby Bunting Group Limited is Australia’s largest specialty maternity and baby goods retailer.\n",
      "\n",
      " We operate 65 stores in Australia and an online store, with a National Distribution Centre based in Dandenong South, Victoria.\n",
      "\n",
      " We have a network plan of over 110 stores throughout Australia.\n",
      "\n",
      " Baby Bunting sells goods online to customers in New Zealand, with our first physical store opened in New Zealand in August 2022, we have a network plan of more than 10 stores in New Zealand.Further information about Baby Bunting is available at babybunting.com.au/investor Supporting new and expectant parents is at the heart of everything we do.\n",
      "\n",
      " We feel honoured to be trusted by parents and caregivers who choose us to help them navigate this significant period in their lives.\n",
      "\n",
      " As we listen to the families we support, we continue to grow to meet their needs.\n"
     ]
    }
   ],
   "source": [
    "import sys\n",
    "\n",
    "sys.path.append(\"../Scripts/\")\n",
    "\n",
    "import pandas as pd\n",
    "from pdf_parser import sentence_parser\n",
    "from sentence_transformers import SentenceTransformer, util\n",
    "\n",
    "# Specify the model\n",
    "mvp_v2_model = SentenceTransformer(\"all-mpnet-base-v2\")\n",
    "# Declare file path to the Report\n",
    "file_path = \"../SampleReports/2022_BBunting_Report.pdf\"\n",
    "maximum_lines = 5\n",
    "\n",
    "# Retieve Sentences from the report\n",
    "pdf_sentences = sentence_parser(\n",
    "    file_path, print_sentences=False, num_sentences=10, parsing_method=\"pypdf\"\n",
    ")"
   ]
  },
  {
   "cell_type": "code",
   "execution_count": null,
   "metadata": {},
   "outputs": [],
   "source": []
  },
  {
   "cell_type": "code",
   "execution_count": 2,
   "metadata": {},
   "outputs": [],
   "source": [
    "# Declare test query here\n",
    "queries = [\n",
    "    \"This statement is strongly related to Sustainable product packaging\"\n",
    "    \"This statement talks about Modern Slavery\",\n",
    "    \"This statement talks about Scope 1 emissions\",\n",
    "    \"This statement talks about Scope 2 emissions\",\n",
    "    \"This statement talks about Scope 3 emissions\",\n",
    "    \"This statement talks about carbon offset\",\n",
    "    \"This statement talks about carbon offsetting\",\n",
    "    \"This statement talks about ethical sourcing\",\n",
    "    \"This statement talks about recycled materials\",\n",
    "]"
   ]
  },
  {
   "cell_type": "code",
   "execution_count": 3,
   "metadata": {},
   "outputs": [
    {
     "name": "stdout",
     "output_type": "stream",
     "text": [
      "Execution Time: 29.68019723892212 seconds\n",
      "Execution Time: 25.18332600593567 seconds\n",
      "Execution Time: 30.06203603744507 seconds\n",
      "Execution Time: 27.223752975463867 seconds\n",
      "Execution Time: 27.68509316444397 seconds\n",
      "Execution Time: 35.673964977264404 seconds\n",
      "Execution Time: 32.29630494117737 seconds\n",
      "Execution Time: 29.408658981323242 seconds\n"
     ]
    }
   ],
   "source": [
    "import time\n",
    "\n",
    "\n",
    "def execute_query(parsed_sentences, current_query):\n",
    "    # Record the end time\n",
    "    start_time = time.time()\n",
    "\n",
    "    # Create Embeddings for query\n",
    "    query_embedding = mvp_v2_model.encode(current_query)\n",
    "\n",
    "    # Create Embeddings for retrieved sentences\n",
    "    sentence_embedding = mvp_v2_model.encode(parsed_sentences)\n",
    "\n",
    "    # Compute similarity scores\n",
    "    scores = util.cos_sim(query_embedding, sentence_embedding)[0]\n",
    "\n",
    "    # Record the end time\n",
    "    end_time = time.time()\n",
    "    # Calculate the total time taken\n",
    "    execution_time = end_time - start_time\n",
    "\n",
    "    print(\"Execution Time:\", execution_time, \"seconds\")\n",
    "\n",
    "    # Create a DataFrame\n",
    "    df = pd.DataFrame(\n",
    "        {\n",
    "            \"Sentence_ID\": range(1, len(parsed_sentences) + 1),\n",
    "            \"Sentence\": parsed_sentences,\n",
    "            \"Score\": scores.tolist(),\n",
    "        }\n",
    "    )\n",
    "\n",
    "    sorted_df = df.sort_values(by=\"Score\", ascending=False)\n",
    "    sorted_df = sorted_df.head(maximum_lines)\n",
    "    # Uncomment to save the scores\n",
    "    sorted_df.to_csv(f\"tmp/Bbunting_{current_query}.csv\", index=False)\n",
    "\n",
    "\n",
    "for q in queries:\n",
    "    execute_query(pdf_sentences, q)"
   ]
  },
  {
   "cell_type": "code",
   "execution_count": null,
   "metadata": {},
   "outputs": [],
   "source": []
  }
 ],
 "metadata": {
  "kernelspec": {
   "display_name": "pgrd",
   "language": "python",
   "name": "python3"
  },
  "language_info": {
   "codemirror_mode": {
    "name": "ipython",
    "version": 3
   },
   "file_extension": ".py",
   "mimetype": "text/x-python",
   "name": "python",
   "nbconvert_exporter": "python",
   "pygments_lexer": "ipython3",
   "version": "3.10.13"
  }
 },
 "nbformat": 4,
 "nbformat_minor": 2
}
