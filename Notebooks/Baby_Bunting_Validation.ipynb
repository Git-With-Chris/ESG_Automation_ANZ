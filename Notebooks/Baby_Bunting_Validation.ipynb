{
 "cells": [
  {
   "cell_type": "markdown",
   "metadata": {},
   "source": [
    "# Load the data"
   ]
  },
  {
   "cell_type": "code",
   "execution_count": 4,
   "metadata": {},
   "outputs": [],
   "source": [
    "from utils.pdf_parser import sentence_parser\n",
    "import utils.t5helper as t5"
   ]
  },
  {
   "cell_type": "code",
   "execution_count": 5,
   "metadata": {},
   "outputs": [
    {
     "name": "stdout",
     "output_type": "stream",
     "text": [
      "Report located in specified directory\n",
      "\n",
      "Summary:\n",
      "Total number of sentences: 1072\n"
     ]
    }
   ],
   "source": [
    "DATASOURCE = '../SampleReports/baby_bunting_group.pdf'\n",
    "\n",
    "pdf_sentences = sentence_parser(\n",
    "    DATASOURCE, print_sentences=False, \n",
    "    num_sentences=10, parsing_method='pypdf')"
   ]
  },
  {
   "cell_type": "code",
   "execution_count": 6,
   "metadata": {},
   "outputs": [
    {
     "name": "stderr",
     "output_type": "stream",
     "text": [
      "/Users/roshan/rmit/s12/pgrd/ESG_Automation_ANZ/Notebooks/utils/t5helper.py:45: FutureWarning: The behavior of DataFrame concatenation with empty or all-NA entries is deprecated. In a future version, this will no longer exclude empty or all-NA columns when determining the result dtypes. To retain the old behavior, exclude the relevant entries before the concat operation.\n",
      "  self.score = pd.concat(\n"
     ]
    },
    {
     "name": "stdout",
     "output_type": "stream",
     "text": [
      "Parsed 0 of 1072\n",
      "Parsed 100 of 1072\n",
      "Parsed 200 of 1072\n",
      "Parsed 300 of 1072\n",
      "Parsed 400 of 1072\n",
      "Parsed 500 of 1072\n",
      "Parsed 600 of 1072\n",
      "Parsed 700 of 1072\n",
      "Parsed 800 of 1072\n",
      "Parsed 900 of 1072\n",
      "Parsed 1000 of 1072\n",
      "                                               sentence  similarity\n",
      "293                     Operating financial review 2.1.    2.525729\n",
      "88    Sustainability: our People, our Community, our...    2.495873\n",
      "716   Accounting Standards include Australian Accoun...    2.488261\n",
      "561            Key developments and future changes 4.1.    2.415708\n",
      "990                                      Market risk i.    2.335281\n",
      "...                                                 ...         ...\n",
      "615   Upon vesting, each right entitles the particip...    1.092085\n",
      "966   Upon vesting, each right entitles the particip...    1.092085\n",
      "1067    On a show of hands, a shareholder has one vote.    1.042935\n",
      "104   Devastatingly, Wen passed away before he could...    0.892534\n",
      "151   Devastatingly, Wen passed away before he could...    0.892534\n",
      "\n",
      "[1072 rows x 2 columns]\n"
     ]
    }
   ],
   "source": [
    "model = t5.CustomModel()\n",
    "model.evaluate('Sustainable Packaging',pdf_sentences)\n",
    "model.show()\n",
    "model.toCSV()"
   ]
  }
 ],
 "metadata": {
  "kernelspec": {
   "display_name": "pgrd",
   "language": "python",
   "name": "python3"
  },
  "language_info": {
   "codemirror_mode": {
    "name": "ipython",
    "version": 3
   },
   "file_extension": ".py",
   "mimetype": "text/x-python",
   "name": "python",
   "nbconvert_exporter": "python",
   "pygments_lexer": "ipython3",
   "version": "3.10.13"
  }
 },
 "nbformat": 4,
 "nbformat_minor": 2
}
