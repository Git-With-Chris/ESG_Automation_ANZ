{
 "cells": [
  {
   "cell_type": "code",
   "execution_count": null,
   "metadata": {},
   "outputs": [],
   "source": [
    "import re\n",
    "import sys\n",
    "sys.path.append('../Scripts/')\n",
    "\n",
    "from pdf_parser import sentence_parser"
   ]
  },
  {
   "cell_type": "code",
   "execution_count": 22,
   "metadata": {},
   "outputs": [],
   "source": [
    "def extract_sentences_with_keyword(sentences, keyword):\n",
    "    # Ensure the first character isnt ?.!\n",
    "    # Ensure matched group is not part of another word ()\n",
    "    # Negative lookahead to ensure that the sentence is not ending\n",
    "    # Capture the last sentence ending character.\n",
    "    pattern = r\"([^\\.!?]*\\b\" + re.escape(keyword) + r\"\\b(?:(?!\\b\\w*[.!?]\\w*\\b).)*[.!?])\"\n",
    "\n",
    "    matched_sentences = []\n",
    "    for sentence in sentences:\n",
    "        matches = re.findall(pattern, sentence, flags=re.IGNORECASE)\n",
    "        matched_sentences.extend(matches)\n",
    "    return matched_sentences"
   ]
  },
  {
   "cell_type": "code",
   "execution_count": 19,
   "metadata": {},
   "outputs": [
    {
     "name": "stdout",
     "output_type": "stream",
     "text": [
      "Report located in specified directory\n",
      "\n",
      "Summary:\n",
      "Total number of sentences: 828\n",
      "\n",
      " Working towards a more sustainable future 2023 Sustainability Report colesgroup Coles Group Limited ABN 11 004 089 936 x Sles Secéng Ste, Ending Hunger, Acknowledgement of Country Coles wishes to acknowledge the Traditional Custodians of Country throughout Australia.\n",
      "\n",
      " We recognise their strength and resilience and pay our respects to their Elders past and present.\n",
      "\n",
      " Coles extends that respect to all Aboriginal and Torres Strait Islander people, and recognises their rich cultures and their continuing connection fo land and waters.\n",
      "\n",
      " Aboriginal and Torres Strait Islander people are advised that this report may contain names and images of people who are deceased.\n",
      "\n",
      " All references to Indigenous and First Nations people in this report are intended to include Aboriginal and/or Torres Strait Islander people.\n",
      "\n",
      " Feedback We welcome feedback on this report.\n",
      "\n",
      " This report also includes forward-looking statements regarding climate change and other environmental and energy transition scenarios.\n",
      "\n",
      " Forward-looking statements can generally be identified by the use of words such as ‘forecast’, ‘estimate’, ‘plan’, ‘will’, ‘anticipate’, ‘may’, ‘believe’, ‘should’, ‘expect’, ‘intend’, ‘outlook’, ‘guidance’ and other similar expressions.\n",
      "\n",
      " Any forward-looking statements are based on the Group’s current knowledge and assumptions, including with respect to financial, market, risk, regulatory and other relevant environments that will exist and affect the Group’s business and operations in the future.\n",
      "\n",
      " The Group does not give any assurance that the assumptions will prove to be correct.\n"
     ]
    }
   ],
   "source": [
    "keyword = \"sustainability\"\n",
    "\n",
    "file_path = '../SampleReports/2023_Coles_Report.pdf'\n",
    "\n",
    "pdf_sentences = sentence_parser(\n",
    "    file_path, print_sentences=True, \n",
    "    num_sentences=10, parsing_method='ocr')\n"
   ]
  },
  {
   "cell_type": "markdown",
   "metadata": {},
   "source": [
    "# Sustainable"
   ]
  },
  {
   "cell_type": "code",
   "execution_count": 30,
   "metadata": {},
   "outputs": [
    {
     "name": "stdout",
     "output_type": "stream",
     "text": [
      "Number of matches : 34\n",
      "\n",
      "Working towards a more sustainable future 2023 Sustainability Report colesgroup Coles Group Limited ABN 11 004 089 936 x Sles Secéng Ste, Ending Hunger, Acknowledgement of Country Coles wishes to acknowledge the Traditional Custodians of Country throughout Australia.\n",
      "au/sustainability) includes the GRI Content Index for this report, as well as our alignment with the United Nations (UN) Global Compact Principles and the UN Sustainable Development Goals (SDGs).\n",
      "We look forward to working together with our team members, customers, suppliers and other partners to create a more sustainable future for generations to come.\n",
      "Our priority is to provide leading food, drink and home solutions that are delicious, sustainable and healthy for our customers.\n",
      "We are committed to the UN Sustainable Development Goals (SDGs) and consider that business has an important role to play in their achievement.\n",
      "Sustainable packaging - pages 22- 24 Circular economy (Including preventing waste to landfill) Identifying and supporting initiatives to reduce waste to landfill and create end-markets for recovered materials - that is, product stewardship schemes.\n",
      "Ethical sourcing - page 26 Supporting Australian farmers and producers Supporting and working with Australian farmers and producers to encourage sustainable farming practices through our Australian First Sourcing Policy, supplier partnerships, direct dairy sourcing model, and the Coles Nurture Fund.\n",
      "Robust governance and procedures contributing positively to sustainable development.\n",
      "Sustainable products and ingredients - pages 27-29 Healthy and affordable food Promoting healthy and affordable food.\n",
      " sustainable agriculture) Public policy debate Through peak national bodies representing farmers, manufacturers and suppliers across Australia Membership of industry associations Unions Fair wages Safe working conditions Freedom of association Through the Ethical Retail Supply Chain Accord! 1 Made up of the Shop, Distributive and Allied Employees’ Association (SDA), the Transport Workers’ Union (TWU) and the Australian Workers’ Union (AWU) Coles Group 2023 Sustainability Report M@IA2AO SIsoOM, suolssiwe pud ABieuz Bulwuny pud Buloinos AJJUNUWIWOS PUD WDE, SoOUDINss\\yy Industry associations We recognise industry associations play an important role in providing a collective voice for individual businesses within an industry.\n",
      "Electric vehicles The high volume of Coles Online deliveries presents us with an opportunity to introduce a more sustainable way of delivering customer orders by reducing diesel emissions, including through the use of electric vehicles.\n",
      "” Coles Group 2023 Sustainability Report MEIAISAO suolssiwue PUD ABieuUz 21sOM Bulwuny pup Buloinos AjJUNWWUOS PUD WDS| SOUDINSSYY 21 Sustainable packaging We are focused on reducing unnecessary packaging and making it easier for customers to recycle.\n",
      "This includes a dedicated sustainable packaging team embedded within the business to provide subject matter expertise and drive product development process, product reviews and ongoing engagement with our suppliers.\n",
      "Packaging Framework We have made good progress across the business to drive our sustainable packaging agenda in FY23.\n",
      "GOLD 2023 Australasian Packaging Innovation & Design (PIDA) Award Coles Finest Carbon Neutral Steak Vacuum Packaging won Gold for sustainable packaging design of the year for its use of recycled content.\n",
      " aquaculture, and are not required to be certified to a third party standard, Sustainable seafood supply Back in 2000, Western Australia’s ‘Western Rock Lobster Fishery’ was the first fishery in the world to be Marine Stewardship Council (MSC) certified.\n",
      "Coles was recognised as a trailblazer at MSC’s 2023 Sustainable Seafood Awards, for being the first and only Australian retailer with MSC Chain of Custody certification for seafood sold at our deli counters.\n",
      "The Annual Communication of Progress (ACOP) are reports submitted by RSPO members to gauge their progress towards 100% RSPO Certified Sustainable Palm Oil.\n",
      "The Summit brought together leaders from organisations reliant on the ocean, to identify key issues and opportunities to support a sustainable ocean economy.\n",
      "Coles co- sponsored an ‘Ocean Food’ immersion at the event, and participated on a panel chaired by Seafood Industry Australia and Blue Economy Cooperative Research Centre on the challenges and opportunities that need to be addressed to allow the ocean to continue to be an abundant and sustainable source of nutrition in Australia and abroad.\n",
      "Coles is a member of the Roundtable on Sustainable Palm Oil (RSPO), as well as the Retailers Palm Oil Group (RPOG)'.\n",
      "All of Coles Own Brand food and drink products that contain palm oil, sold in Coles Supermarkets, support the production of sustainable palm oil.\n",
      " and more than 90% of these products contain or support the production of sustainable palm oil.\n",
      "Smallholder palm oil farmers are small to medium local producers of sustainable palm oil, who operate independently from large-scale plantations and mills.\n",
      "Coles supports the Bonsucro program for the sustainable production of sugar cane.\n",
      "Across 15 categories, Coles’ food, liquor and service suppliers were awarded for innovation, service, sustainable practices and community initiatives.\n",
      "Sustainable dairy farming In FY23, Coles directly sourced milk from 101 dairy farms across Australia to produce several varieties of Coles Own Brand milk and cheese.\n",
      "Through the Coles Sustainable Dairy Development Group (CSDDG), we invested in sustainability projects in consultation with dairy farmers.\n",
      "” “The three-year agreement (and a set minimum price) allows us to make decisions based on certainty of cash flow - we're able to invest across the farm to make ourselves more sustainable for the future.\n",
      "” Ryan‘s farm has also received funding through the Coles Sustainable Dairy Development Group, via the ‘Safety Fund’ which was put towards purchasing a new pallet fork on a front loader.\n",
      "In addition to our regular Own Brand manufacturing audits, which incorporate animal welfare, our sustainable sourcing and internal audit teams performed animal welfare specific audits on farms and abattoirs throughout FY23.\n",
      "O0® Sustainable farming decisions and better welfare for layer hens Beginning with just four farms and 12 free- range sheds, Valley Park Farm in Victoria has grown to be one of Victoria’s largest egg producers in 2023.\n",
      "The Plan is focused on: ¢ Safe sustainable leadership: all Coles team members have the capability to make safe decisions to contribute to a positive safety culture. ¢ Smarter safety: smarter safety through data, technology, innovation and agile ways of working. ¢ Healthy teams: an environment where injured team members are supported to return to work. ¢ Mind your health: to create communities where we are seen, we are heard and we matter.\n",
      "Safe sustainable leadership To support our leaders to improve our safety performance and culture, they are provided with regular safety performance updates and take part in management reviews to identify areas for action and improvement.\n"
     ]
    }
   ],
   "source": [
    "k = 'sustainable'\n",
    "matched_sentences = extract_sentences_with_keyword(pdf_sentences, k)\n",
    "print(f'Number of matches : {len(matched_sentences)}')\n",
    "print()\n",
    "for sentence in matched_sentences:\n",
    "    print(sentence)\n",
    "\n"
   ]
  },
  {
   "cell_type": "markdown",
   "metadata": {},
   "source": [
    "# Sustainability"
   ]
  },
  {
   "cell_type": "code",
   "execution_count": 31,
   "metadata": {},
   "outputs": [
    {
     "name": "stdout",
     "output_type": "stream",
     "text": [
      "Number of matches : 79\n",
      "\n",
      "Working towards a more sustainable future 2023 Sustainability Report colesgroup Coles Group Limited ABN 11 004 089 936 x Sles Secéng Ste, Ending Hunger, Acknowledgement of Country Coles wishes to acknowledge the Traditional Custodians of Country throughout Australia.\n",
      "Reporting scope Unless otherwise stated, this Sustainability Report covers the period 27 June 2022 to 25 June 2023 (FY23) for the Group.\n",
      "au/sustainability) includes the GRI Content Index for this report, as well as our alignment with the United Nations (UN) Global Compact Principles and the UN Sustainable Development Goals (SDGs).\n",
      "EY has provided independent assurance in respect of this report, including considering whether the appropriate indicators have been reported in accordance with GRI Sustainability Reporting Standards.\n",
      "The suite also includes our financial and non-financial performance and progress against our sustainability and human rights commitments.\n",
      "Coles’ community support is verified by Coles Group 2023 Sustainability Report fo) MOIAOA 1S puD ABieuz a{soM Bulwuny pud Buloinos AJJUNUWIWOS PUD WDE, SoOUDINss\\yy Message from the Chairman, and Managing Director and Chief Executive Officer As one of Australia’s prominent corporations we know we have an opportunity and responsibility to make a difference in the community and our sustainability strategy is pivotal to us achieving that outcome.\n",
      "We have made substantial progress against our sustainability strategy in FY23, made possible by the hard work and commitment of our more than 120,000 team members.\n",
      "We have an engaged team who are passionate about supporting the communities in which they live and work, and who are committed to achieving Coles’ sustainability ambitions.\n",
      "We know that, now more than ever, our Customers want to understand the sustainability of the products they purchase and the responsibility with which they are sourced.\n",
      "Ad Mad Leah Weckert Managing Director and Chief Executive Officer Coles Group Limited James Graham AM Chairman Coles Group Limited Coles Group 2023 Sustainability Report M@IA2AO OSOM suolssiuue PUD AB1eUz Bulwuny pud Buloinos AjJUNWWOS PUD WDE SoOUDINss\\yy Our business and strategy Coles is one of Australia’s leading retailers, with an extensive national supermarket and liquor store footprint and a range of digital platforms allowing us to deliver a full service omnichannel experience for Customers.\n",
      "Our current sustainability strategy, themed under two key focus areas of ‘Together to Zero’ and ‘Better Together’, sets our ambition to reduce our impact on the environment, and work together with our team, suppliers, customers and community to make a real difference.\n",
      "In FY24 we will be refreshing our sustainability strategy to ensure we continue responding to changing stakeholder expectations and are well positioned to manage the sustainability risks and opportunities we expect to emerge in the future.\n",
      "The updated strategy will reflect our recently refreshed purpose and focus our action on high impact sustainability and community initiatives.\n",
      "O0® estination fo, Rod and drip rf in Toget pict ‘ Yop, & xe Helping Australians eat and live better every day Coles Group 2023 Sustainability Report M@IA2AO OSOM suolssiuue PUD AB1eUz Bulwuny pud Buloinos AjJUNWWOS PUD WDE SoOUDINss\\yy Governance and risk management O0® Our corporate governance framework and risk management policies and processes support the effective operation and management of our business, enabling us to create value for our stakeholders.\n",
      "The Board oversees and approves the strategic direction of the Group and oversees the effectiveness of Coles’ sustainability and governance policies and practices, including exposure to climate change and other environmental and social risks, and opportunities.\n",
      "The Audit and Risk Committee supports the Board in fulfilling its responsibilities including evaluating the adequacy and effectiveness of the Group’s identification and management of environmental and social sustainability risks and its disclosure of any material exposures to those risks, including financial and non-financial risks.\n",
      "The Chief Operations and Sustainability Officer, amember of the Executive Leadership Team (ELT) who reports to the Managing Director and Chief Executive Officer, provides regular updates to the Board and the Audit and Risk Committee on sustainability risks, issues and progress against commitments.\n",
      "Standardised quarterly reporting, with performance monitoring against our With the environmental, social and governance landscape continuing to rapidly evolve, we have been working in FY23 through a review of our overall sustainability governance arrangements.\n",
      "During this period, the primary management governance forums for sustainability have been the quarterly business reviews, attended by members of the ELT, and ELT meetings.\n",
      "As part of our sustainability governance review we are refreshing our Sustainability Steering Committee charter and membership and will move to bi-monthly meetings in FY24.\n",
      "It is intended that the Steering Committee be the key management committee with oversight of Coles’ sustainability strategy and performance.\n",
      "Coles Group 2023 Sustainability Report M@IA2AO OSOM suolssiuue PUD AB1eUz Bulwuny pud Buloinos AjJUNWWOS PUD WDE SoOUDINss\\yy What matters most O0® Through our annual materiality assessment, we engage with internal and external stakeholders to identify the environmental and social risks and opportunities they consider Coles has the greatest ability to impact.\n",
      "Stakeholders were provided with a list of sustainability issues (and definitions) developed by Coles, and informed by the GRI Sustainability Reporting Standards, UN Global Compact Principles, peer benchmarking and media analysis.\n",
      "The assessment was also informed by sustainability risks identified and managed in accordance with the Coles Risk Management Standard, which is based on ISO 31000:2018 Risk management - Guidelines.\n",
      "The core set of sustainability issues and opportunities has not changed significantly between FY22 and FY23.\n",
      "This Sustainability Report informs our annual Communication on Progress on how we are implementing the UNGC’s 10 principles, and supporting its broader development objectives in the areas of human rights, labour, anti-corruption and the environment.\n",
      "Our sustainability strategy is aligned with, and supports, nine of the 17 SDGs.\n",
      "TERO GOOD HEALTH GENDER DECENT WORK AND 1 REDUCED HUNGER ‘AND WELL-BEING EQUALITY ECONOMIC GROWTH INEQUALITIES ~ d= 4 1 RESPONSIBLE 1 CLIMATE CONSUMPTION ‘AND PRODUCTION ACTION Coles Group 2023 Sustainability Report M@IA2AO OSOM suolssiuue PUD AB1eUz Bulwuny pud Buloinos AjJUNWWOS PUD WDE SoOUDINss\\yy Top 10 material issues (as ranked by stakeholders) Issue Definition Relevant UN SDG O0® Location of disclosures Climate change (Including security of supply and business continuity) Decarbonisation across Coles’ operations and value chain.\n",
      " 1 Made up of the Shop, Distributive and Allied Employees’ Association (SDA), the Transport Workers’ Union (TWU) and the Australian Workers’ Union (AWU) Coles Group 2023 Sustainability Report M@IA2AO SIsoOM, suolssiwe pud ABieuz Bulwuny pud Buloinos AJJUNUWIWOS PUD WDE, SoOUDINss\\yy Industry associations We recognise industry associations play an important role in providing a collective voice for individual businesses within an industry.\n",
      "Our participation is also intended to drive improvement on sustainability, inclusion and productivity throughout our industry and supply chain, supporting economy-wide progress and creating benefits for wider society.\n",
      "In the area of product safety and quality, we are active participants in various standards committees and working groups focused on food safety, and social and environmental sustainability.\n",
      "O0® Coles Group 2023 Sustainability Report M@IA2AO OSOM suolssiuue PUD AB1eUz Bulwuny pud Buloinos AjJUNWWOS PUD WDE SoOUDINss\\yy Sustainability target performance summary O0® The following table is a snapshot of our FY23 performance against our sustainability targets.\n",
      "Coles Group 2023 Sustainability Report M@IA2AO SIsoOM, suolssiwe pud ABieuz Bulwuny pud Buloinos AJJUNUWIWOS PUD WDE, SoOUDINss\\yy O0® O Achieved 0 Partially achieved or in progress O Off track Target Performance Trend Gender equality' Be recognised as a WGEA?\n",
      "Coles Group 2023 Sustainability Report M@IA2AO SIsoOM, suolssiwe pud ABieuz Bulwuny pud Buloinos AJJUNUWIWOS PUD WDE, SoOUDINss\\yy ~~ “Together,to Zero sets our ambition to reduce*our impact on the environment.\n",
      "Coles Group 2023 Sustainability Report MEIAISAO asoM —- SUOISsIWa pup ABsoug Bulwuny pup Buloinos AjJUNWWUOS PUD WDS| SOUDINSSYY Scope 2 (indirect) emissions are those associated with our electricity use and make up the bulk of our combined Scope 1 and 2 emissions.\n",
      "Coles Group 2023 Sustainability Report MOIAICAO. asoM —- SUOISsIWa pup ABsoug Bulwuny pup Buloinos AjJUNWWUOS PUD WDS| SOUDINSSYY Scope 3 emissions Scope 3 emissions are indirect emissions (not included in Scope 2) that occur in our value chain and make up more than 90% of Coles’ overall emissions profile.\n",
      "Coles Group 2023 Sustainability Report MEIAISAO pup ABieuq SuUOISSIUO a{soM Bulwuny pup Buloinos AjJUNWWUOS PUD WDS| SOUDINSSYY Reducing emissions in our beef supply chain Our fresh meat producers continue to explore ways to reduce their on-farm emissions intensity.\n",
      "We are working closely with industry initiatives, such as the Australian Beef and Sheep Sustainability Frarmeworks, and sourcing the latest information and innovations to pilot and implement.\n",
      "Pictured: David Allen, Maria Crawford from the Coles Livestock team and Nick Allen at Boorook Farm in Southern Victoria Coles Group 2023 Sustainability Report MEIAISAO asoM —- SUOISsIWa pup ABsoug Bulwuny pup Buloinos AjJUNWWUOS PUD WDS| SOUDINSSYY Initiatives undertaken by cattle producers who are part of the program include transitioning from annual to deep rooted perennial pastures, implementing targeted supplementary finishing programs and optimising herd efficiency through selection for higher fertility and increasing weight for age tumoff.\n",
      "O00 Coles Group 2023 Sustainability Report MEIAISAC, asoM —- SUOISsIWa pup ABsoug Bulwuny pup Buloinos AjlunuWOS PUD WDE], SOUDINSSYY Great Barrier Reef Foundation partnership In May 2022, Coles announced a 10-year, $10 million partnership with the Great Barrier Reef Foundation (GBRF) to help strengthen the regeneration and resilience of the Great Barrier Reef.\n",
      "org/agenda/2022/02/coral-reefs-extinct-global-warming-new-study/ Coles Group 2023 Sustainability Report MEIAISAO asoM —- SUOISsIWa pup ABsoug Bulwuny pup Buloinos AjJUNWWUOS PUD WDS| SOUDINSSYY Waste We share our stakeholders’ concerns about the environmental impacts associated with food waste and packaging, and understand we have a role to play in reducing waste.\n",
      "Coles Group 2023 Sustainability Report MOIAICAO.\n",
      "” Coles Group 2023 Sustainability Report MEIAISAO suolssiwue PUD ABieuUz 21sOM Bulwuny pup Buloinos AjJUNWWUOS PUD WDS| SOUDINSSYY 21 Sustainable packaging We are focused on reducing unnecessary packaging and making it easier for customers to recycle.\n",
      "Coles Group 2023 Sustainability Report MOIAICAO. o}SOM suolssiwue PUD ABieuUz Bulwuny pup Buloinos AjJUNWWUOS PUD WDS| SOUDINSSYY 22 O00 Coles Own Brand R?\n",
      "Coles Group 2023 Sustainability Report MOIAICAO. o}SOM suolssiwue PUD ABieuUz Bulwuny pup Buloinos AjJUNWWUOS PUD WDS| SOUDINSSYY 23 Recycle Target Support indusiry to achieve 70% of plastic packaging being recycled or composted in Australia, by applying the Australasian Recycling Label (ARL).\n",
      "Coles Group 2023 Sustainability Report MOIAICAO. o}SOM suolssiwue PUD ABieuUz Bulwuny pup Buloinos AjJUNWWUOS PUD WDS| SOUDINSSYY 24 eoerer recon ince when we work 1s mnaities n- whieh vt customers and to Pictured: Coles team members, including store manager Jake, Betiwe eer) wo = . at the opening of the new Coles Local Toorak Village store.\n",
      "Coles Group 2023 Sustainability Report MOIAOAO suojssiwue pud ABieuz a{soM 6Burwup pup Buloinos AjJUNWWOS PUD WDE SOUDINssYY Tasmanian salmon industry It is important to Coles and our customers, as well as a range of other stakeholders including local communities and producers, that the Tasmanian salmon industry operates in an environmentally, socially and economically responsible manner.\n",
      "As part of the Program, we discuss sustainability opportunities, where appropriate, with our suppliers, government and not-for-profit organisations.\n",
      "For Coles, as well as our suppliers, this new approach will facilitate improvements to the sustainability of our supply chain.\n",
      " * Coles Group 2023 Sustainability Report MOIAOAO suojssiwue pud ABieuz a{soM 6Burwup pup Buloinos AjJUNWWOS PUD WDE SOUDINssYY Timber, pulp and paper The production of all Coles Own Brand timber, pulp and paper products sources material from forest plantations independently certified to the Programme for the Endorsement of Forest Certification (PEFC) or Forest Stewardship Council® (FSC®) certification schemes, or from post-consumer recycled fibre.\n",
      "Coles Group 2023 Sustainability Report MOIAOAO suojssiwue pud ABieuz a{soM 6Burwup pup Buloinos AjJUNWWOS PUD WDE SOUDINssYY supporting Australian producers We are committed to building strong, multi-generational, collaborative relationships with Australian farmers and producers.\n",
      "In FY23, the Marriott family near Benalla was announced as Coles Sustainability Partner of the Year for its role in measuring and mapping its carbon footprint as part of the launch of Coles’ Carbon Neutral Beef range.\n",
      "In FY23, winners were family-run businesses demonstrating a strong commitment to innovation and sustainability, enhancing Australia’s reputation as a leader in food production and agribusiness.\n",
      "Through the Coles Sustainable Dairy Development Group (CSDDG), we invested in sustainability projects in consultation with dairy farmers.\n",
      "Featured topics centred around sustainability, innovation, productivity and farm profitability.\n",
      "Each eligible Coles dairy farmer can apply for funding of between $7,500 and $50,000 per year with the aim of accelerating meaningful sustainability change across the Coles dairy farmer group.\n",
      "Coles Group 2023 Sustainability Report MOIAOAO suojssiwue pud ABieuz a{soM 6Burwup pup Buloinos AjJUNWWOS PUD WDE SOUDINssYY 30 O00 Growing a dairy farm through the generations Third generation dairy farmer, Ryan Grant has been on the land in Northern Victoria his whole life.\n",
      "Ryan’‘s farm supplies milk to Coles via a direct, milk purchase agreement, which he believes has helped drive productivity and sustainability initiatives on-farm. “After the floods last year, Coles supported us at every step of the recovery, through constant communication and offers of help,” said Ryan.\n",
      "O0® nurture func Coles Group 2023 Sustainability Report MOIAICAO. suolssiwwe PUD ABieUz a{soM Bulwupy pup Buroinos AjlunUIUWOS PUD WDE], SOUDINssYY Safeguarding animal welfare We care about how the food we sell is produced and sourced, and we are committed to working with farmers and food producers over the long term, while safeguarding animal welfare.\n",
      "Valley Park made the ethical and sustainability-led decision to never have layer hens in cages, instead allowing hens to live in free-range systems.\n",
      "Coles Group 2023 Sustainability Report MOIAOAO suojssiwue pud ABieuz a{soM 6Burwup pup Buloinos AjJUNWWOS PUD WDE SOUDINssYY 34 GRAZE' beef and lamb GRAZE beef is delivered in partnership with Australian farmers.\n",
      "O0® Coles Group 2023 Sustainability Report MEIAOAO suO|ss|WUS PUD ABieUy O{soM AJJUNUIWWOS PUD WDS] soupinssy Great place to work With more than 120,000 team members, Coles is one of Australia’s largest private-sector employers.\n",
      "Coles Group 2023 Sustainability Report MEIAISAC, SIsoOM, suolssiwe pud ABieuz Bulwups pup Buloinos Ajunwiwos pup wpe, SOUDINSSYY contributed to positive team member sentiment towards senior leadership (+3pp) and management (+5pp) compared to mysay in FY22. * Retail Leaders: a four-month program designed to prepare frontline leaders in our supermarket and liquor businesses to step into new leadership roles.\n",
      "Coles Group 2023 Sustainability Report MOINOAO OSOM suolssiWue pud AB1eUR Bulwuny pup Buloinos Ayunwiwods pup wpe, SOUDINSsYY 1,202 team members made use of primary parental leave (1,146 women and 56 men) 839 team members made use of secondary parental leave (12 women and 827 men) 7172 team members returned to work following primary parental leave (757 women and 15 men) 87% of team members! reported that they feel supported if they choose to make use of flexible working arrangements.\n",
      "Coles Group 2023 Sustainability Report MEIAISAO OSOM suolssiwue PUD ABieuUz Bulwuj pud Buloinos Ajunwiwos pup wpe, SOUDINSSYY A team that Is better together We celebrate difference and want Coles to be a place where everyone feels they belong.\n",
      " 40/40/20 is 40% men, 40% women and 20% of any gender Coles Group 2023 Sustainability Report MEIAISAO OSOM suolssiwue PUD ABieuUz Bulwuj pud Buloinos Ayunuwios pup wpe, SOUDINSSYY 44 Health, safety and wellbeing We are committed to providing our team members, Customers and visitors with a safe workplace and shopping environment.\n",
      "Coles Group 2023 Sustainability Report MEIAISAO OSOM suolssiwue PUD ABieuUz Bulwuj pud Buloinos Ayunuwios pup wpe, SOUDINSSYY 45 Pictured: Coles team members participate in ‘Mind your health’ activities.\n",
      "Coles Group 2023 Sustainability Report MEIAISAO OSOM suolssiwue PUD ABieuUz Bulwuj pud Buloinos Ayunuwios pup wpe, SOUDINSSYY 46 Over 400 project manager site safety audits and 137 independent construction audits were completed.\n",
      "Coles Group 2023 Sustainability Report MEIAISAO OSOM suolssiwue PUD ABieuUz Bulwuj pud Buloinos Ayunuwios pup wpe, SOUDINSSYY Product safety and quality We are committed to providing customers with safe, high-quality Coles Own Brand products.\n",
      "Coles Group 2023 Sustainability Report MEIAISAO OSOM suolssiwue PUD ABieuUz Bulwuj pud Buloinos Ayunuwios pup wpe, SOUDINSSYY 48 hanie , F pee! of Serninc Ki caps rouNbiatiow® ~~ ~*~ 3 a é » Erigu, school sicignit norig ?\n",
      "Coles Group 2023 Sustainability Report MEIAISAO OSOM suolssiwue PUD ABieuUz Bulwuj pud Buloinos Ayunuwios pup wpe, SOUDINSSYY 8,000 families affected by childhood cancer.\n",
      "Coles Group 2023 Sustainability Report MEIAISAO OSOM suolssiwue PUD ABieuUz Bulwuj pud Buloinos Ayunuwios pup wpe, SOUDINSSYY 51 FY23 community partner highlights Supporting veterans with Bravery Trust Coles supported the Bravery Trust by raising $168,000 as part of a campaign ahead of ANZAC Day, donating 50 cents from the sale of Coles Bakery biscuits and cookies.\n",
      "Coles Group 2023 Sustainability Report MEIAISAO SIsoOM, suolssiwe pud ABieuz Bulwuj pud Buloinos Ajunwiwos pup wpe, SOUDINSSYY 52 Health and nutrition O0® We want to make it easy and affordable for our customers to make healthy choices while shopping at Coles.\n",
      "Coles Group 2023 Sustainability Report MEIAISAO OSOM suolssiwue PUD ABieuUz Bulwuj pud Buloinos Ayunuwios pup wpe, SOUDINSSYY The responsible sale of alcohol and tobacco Coles is committed to the responsible sale of alcohol (RSA) and tobacco and protecting the safety and wellbeing of our team members, customers and the communities in which we operate.\n",
      "Based on our procedures and the evidence we have obtained, nothing has come to our attention that suggests that Coles’ sustainability data and disclosures presented below, have not been prepared, in all material respects, in accordance with the Criteria defined below.\n",
      "Ernst & Young (‘EY’, ‘we’) was engaged by Coles to undertake reasonable assurance as defined by Australian Auditing Standards, hereafter referred to as an ‘audit’, over the energy consumption, energy production and Scope 1 and 2 greenhouse gas emissions based on a location and market basis in the Sustainability Report for the year ended 30 June 2023.\n",
      "What our review covered: We provided limited assurance over certain Coles sustainability data and disclosures, listed below, as disclosed in the Sustainability Report and Sustainability Data Pack, for the year ended 25 June 2023.\n",
      "Selected Coles qualitative disclosures in the Sustainability Report.\n",
      "Coles responsibility Coles Management was responsible for selecting the Criteria and preparing and fairly presenting information presented and referenced in the Sustainability Report in accordance with that Criteria.\n"
     ]
    }
   ],
   "source": [
    "k = 'sustainability'\n",
    "matched_sentences = extract_sentences_with_keyword(pdf_sentences, k)\n",
    "print(f'Number of matches : {len(matched_sentences)}')\n",
    "print()\n",
    "for sentence in matched_sentences:\n",
    "    print(sentence)"
   ]
  },
  {
   "cell_type": "markdown",
   "metadata": {},
   "source": [
    "# Social"
   ]
  },
  {
   "cell_type": "code",
   "execution_count": 32,
   "metadata": {},
   "outputs": [
    {
     "name": "stdout",
     "output_type": "stream",
     "text": [
      "Number of matches : 10\n",
      "\n",
      "The Board oversees and approves the strategic direction of the Group and oversees the effectiveness of Coles’ sustainability and governance policies and practices, including exposure to climate change and other environmental and social risks, and opportunities.\n",
      "The Audit and Risk Committee supports the Board in fulfilling its responsibilities including evaluating the adequacy and effectiveness of the Group’s identification and management of environmental and social sustainability risks and its disclosure of any material exposures to those risks, including financial and non-financial risks.\n",
      "Standardised quarterly reporting, with performance monitoring against our With the environmental, social and governance landscape continuing to rapidly evolve, we have been working in FY23 through a review of our overall sustainability governance arrangements.\n",
      "Coles Group 2023 Sustainability Report M@IA2AO OSOM suolssiuue PUD AB1eUz Bulwuny pud Buloinos AjJUNWWOS PUD WDE SoOUDINss\\yy What matters most O0® Through our annual materiality assessment, we engage with internal and external stakeholders to identify the environmental and social risks and opportunities they consider Coles has the greatest ability to impact.\n",
      " ¢ The BCA’s core activities are to develop and advocate on public policy in all areas relating to the economy and business, including social issues impacting Australia.\n",
      "In the area of product safety and quality, we are active participants in various standards committees and working groups focused on food safety, and social and environmental sustainability.\n",
      "We understand our responsibility to minimise our environmental footprint, as well as to mitigate the environmental and social impacts of climate change.\n",
      "Our partnership with GBRF aligns with our commitment to help mitigate the environmental and social impacts of climate change - climate change is already degrading coral reefs globally, with 99% of reefs at risk’.\n",
      "At Coles, we firmly believe that upholding human rights is not only a responsibility but also an opportunity to create positive social impact.\n",
      " worked closely with key government and community stakeholders in Darwin and Alice Springs in the Northern Territory to introduce alcohol restrictions and security and safety measures, as a result of escalating crime and anti-social behaviour in the community.\n"
     ]
    }
   ],
   "source": [
    "k = 'social'\n",
    "matched_sentences = extract_sentences_with_keyword(pdf_sentences, k)\n",
    "print(f'Number of matches : {len(matched_sentences)}')\n",
    "print()\n",
    "for sentence in matched_sentences:\n",
    "    print(sentence)"
   ]
  },
  {
   "cell_type": "markdown",
   "metadata": {},
   "source": [
    "# Governance"
   ]
  },
  {
   "cell_type": "code",
   "execution_count": 33,
   "metadata": {},
   "outputs": [
    {
     "name": "stdout",
     "output_type": "stream",
     "text": [
      "Number of matches : 12\n",
      "\n",
      "O0® estination fo, Rod and drip rf in Toget pict ‘ Yop, & xe Helping Australians eat and live better every day Coles Group 2023 Sustainability Report M@IA2AO OSOM suolssiuue PUD AB1eUz Bulwuny pud Buloinos AjJUNWWOS PUD WDE SoOUDINss\\yy Governance and risk management O0® Our corporate governance framework and risk management policies and processes support the effective operation and management of our business, enabling us to create value for our stakeholders.\n",
      "The Board oversees and approves the strategic direction of the Group and oversees the effectiveness of Coles’ sustainability and governance policies and practices, including exposure to climate change and other environmental and social risks, and opportunities.\n",
      "Standardised quarterly reporting, with performance monitoring against our With the environmental, social and governance landscape continuing to rapidly evolve, we have been working in FY23 through a review of our overall sustainability governance arrangements.\n",
      "During this period, the primary management governance forums for sustainability have been the quarterly business reviews, attended by members of the ELT, and ELT meetings.\n",
      "As part of our sustainability governance review we are refreshing our Sustainability Steering Committee charter and membership and will move to bi-monthly meetings in FY24.\n",
      "Robust governance and procedures contributing positively to sustainable development.\n",
      "Coles 2023 Annual Report and Corporate Governance Statement Health, safety and wellbeing of our team Ensuring safe and healthy working conditions and providing team members with mental health and wellbeing policies, programs and initiatives. 3 ie Soon oma Health, safety and wellbeing - pages 45-47 © |@|@/®|@| © | @|@ Biodiversity and nature Understanding the impacts of our operations and supply chain on nature and biodiversity, and minimising negative impacts (including, but not limited to, deforestation from high-risk commodities and consideration of marine ecosystems).\n",
      "We ensure effective governance of our team members by regularly reviewing, updating and enhancing our policies to align with our values and regulatory/legislative changes.\n",
      " ¢ participating in the Directing Change program, which pairs a Coles leader with an external person with a disability who is building their governance knowledge to contribute to Boards.\n",
      "Safety governance meetings are held monthly to monitor safety performance, progress against plans and to ensure delivery of safety innovations.\n",
      "The meetings are attended by the Chief of Legal & Safety, the General Managers of Safety, the Head of Safety and safety teams, to provide governance and assurance that we are progressing to plan, review safety performance and also ensure that all relevant legislation changes are reviewed and implemented where relevant.\n",
      "Governance The Product and Food Safety Steering Committee, chaired by Coles’ Chief Legal & Safety Officer, provides oversight of Coles’ food safety program.\n"
     ]
    }
   ],
   "source": [
    "k = 'governance'\n",
    "matched_sentences = extract_sentences_with_keyword(pdf_sentences, k)\n",
    "print(f'Number of matches : {len(matched_sentences)}')\n",
    "print()\n",
    "for sentence in matched_sentences:\n",
    "    print(sentence)"
   ]
  }
 ],
 "metadata": {
  "kernelspec": {
   "display_name": "Python 3 (ipykernel)",
   "language": "python",
   "name": "python3"
  },
  "language_info": {
   "codemirror_mode": {
    "name": "ipython",
    "version": 3
   },
   "file_extension": ".py",
   "mimetype": "text/x-python",
   "name": "python",
   "nbconvert_exporter": "python",
   "pygments_lexer": "ipython3",
   "version": "3.10.13"
  }
 },
 "nbformat": 4,
 "nbformat_minor": 2
}
