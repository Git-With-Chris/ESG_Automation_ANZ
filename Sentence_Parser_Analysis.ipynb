{
 "cells": [
  {
   "cell_type": "code",
   "execution_count": 1,
   "id": "b629eb6f",
   "metadata": {},
   "outputs": [],
   "source": [
    "# Import Dependencies\n",
    "import PyPDF2\n",
    "from pdf2image import convert_from_path\n",
    "import pytesseract\n",
    "import nltk\n",
    "import re\n",
    "\n",
    "# Dependeny installation\n",
    "# !pip install nltk PyPDF2\n",
    "\n",
    "# Download the required dataset for sentence tokenization\n",
    "# nltk.download('punkt')  "
   ]
  },
  {
   "cell_type": "code",
   "execution_count": 2,
   "id": "abef9948",
   "metadata": {},
   "outputs": [],
   "source": [
    "# PDF file path\n",
    "pdf_file_path = \"./SampleReports/2023_Coles_Report.pdf\""
   ]
  },
  {
   "cell_type": "markdown",
   "id": "80e4e2c0",
   "metadata": {},
   "source": [
    "## Method 1: PyPDF 2 Parser\n",
    "\n",
    "Parsing is a process that extracts data from structured or semi-structured PDFs by analyzing their internal structure and metadata. Parsing software reads the PDF file and identifies the elements and attributes that define the data, such as tags, fields, coordinates, or styles.\n",
    "\n",
    "In Method 1 we use the PyPDF2 to read the annual reports. More details can be found [here](https://pypdf2.readthedocs.io/en/3.x/)"
   ]
  },
  {
   "cell_type": "code",
   "execution_count": 5,
   "id": "08fdb9cf",
   "metadata": {},
   "outputs": [],
   "source": [
    "# PyPDF 2 Parser\n",
    "def parser_pypdf(file_path):\n",
    "    \n",
    "    text = \"\"\n",
    "    with open(file_path, 'rb') as file:\n",
    "        reader = PyPDF2.PdfReader(file)\n",
    "        num_pages = len(reader.pages)\n",
    "        \n",
    "        for page_number in range(num_pages):\n",
    "            page = reader.pages[page_number]\n",
    "            text += page.extract_text()\n",
    "            \n",
    "    return text\n",
    "\n",
    "# Function to split document into sentences\n",
    "def get_sentences(text):\n",
    "    \n",
    "    sentences = nltk.sent_tokenize(text)\n",
    "    return sentences\n",
    "\n",
    "# Function to perform text formatting operations on a list of sentences\n",
    "def sentence_formatter(sentences):\n",
    "    \n",
    "    formatted_sentences = []\n",
    "    \n",
    "    for sentence in sentences:\n",
    "        sentence = sentence.replace('\\n', ' ')\n",
    "        sentence = sentence.strip()\n",
    "        sentence = re.sub(r'\\s+', ' ', sentence)\n",
    "        \n",
    "        # Join fragmented sentences\n",
    "        if len(formatted_sentences) > 0 and not sentence[0].isupper():\n",
    "            formatted_sentences[-1] += ' ' + sentence\n",
    "        else:\n",
    "            formatted_sentences.append(sentence)\n",
    "    \n",
    "    return formatted_sentences"
   ]
  },
  {
   "cell_type": "code",
   "execution_count": 6,
   "id": "891f7da2",
   "metadata": {},
   "outputs": [
    {
     "name": "stdout",
     "output_type": "stream",
     "text": [
      "\n",
      " 2023 Sustainability ReportWorking towards a more sustainable future Coles Group Limited ABN 11 004 089 936Acknowledgement of Country Coles wishes to acknowledge the Traditional Custodians of Country throughout Australia.\n",
      "\n",
      " We recognise their strength and resilience and pay our respects to their Elders past and present.\n",
      "\n",
      " Coles extends that respect to all Aboriginal and Torres Strait Islander people, and recognises their rich cultures and their continuing connection to land and waters.\n",
      "\n",
      " Aboriginal and Torres Strait Islander people are advised that this report may contain names and images of people who are deceased.\n",
      "\n",
      " All references to Indigenous and First Nations people in this report are intended to include Aboriginal and/or Torres Strait Islander people.\n",
      "\n",
      " Feedback We welcome feedback on this report.\n",
      "\n",
      " For more information or to provide comments, please contact us at: sustainability@coles.com.au Anyone seeking to use information in this Sustainability Report to draw conclusions from the data presented should email: investor.relations@colesgroup.com.auForward-looking statements This report contains forward-looking statements in relation to Coles Group Limited (‘the Company’) and its controlled entities (together, ‘Coles’, ‘Coles Group’, or ‘the Group’), including statements regarding the Group’s intent, belief, goals, objectives, opinions, initiatives, commitments or current expectations with respect to the Group’s business and operations, market conditions, results of operations and financial conditions, and risk management practices.\n",
      "\n",
      " This report also includes forward-looking statements regarding climate change and other environmental and energy transition scenarios.\n",
      "\n",
      " Forward-looking statements can generally be identified by the use of words such as ‘forecast’, ‘estimate’, ‘plan’, ‘will’, ‘anticipate’, ‘may’, ‘believe’, ‘should’, ‘expect’, ‘intend’, ‘outlook’, ‘guidance’ and other similar expressions.\n",
      "\n",
      " Any forward-looking statements are based on the Group’s current knowledge and assumptions, including with respect to financial, market, risk, regulatory and other relevant environments that will exist and affect the Group’s business and operations in the future.\n"
     ]
    }
   ],
   "source": [
    "# Call Parser\n",
    "text = parser_pypdf(pdf_file_path)\n",
    "\n",
    "# Get sentences\n",
    "sentences = get_sentences(text)\n",
    "\n",
    "# Replace '\\n' with ' ' in each sentence\n",
    "formatted_sentences = sentence_formatter(sentences)\n",
    "\n",
    "# Print the first 10 formatted sentences\n",
    "for sentence in formatted_sentences[:10]:\n",
    "    print('\\n', sentence)"
   ]
  },
  {
   "cell_type": "markdown",
   "id": "3a750d6f",
   "metadata": {},
   "source": [
    "## Method 2: OCR Reader\n",
    "\n",
    "OCR stands for optical character recognition, a process that converts images of text into editable and searchable text. OCR software scans the PDF file and analyzes the pixels to identify the characters and words. OCR can be useful for extracting data from scanned or image-based PDFs, such as invoices, receipts, forms, or reports. \n",
    "\n",
    "**IMPORTANT NOTE: Tesseract and poppler need to be installed and added to system PATH for error-free execution.**\n",
    "\n",
    "We use the Tesseract OCR for Method 2. More details can be accessed [here](https://github.com/tesseract-ocr/tesseract)"
   ]
  },
  {
   "cell_type": "code",
   "execution_count": 7,
   "id": "87fa5760",
   "metadata": {},
   "outputs": [
    {
     "name": "stdout",
     "output_type": "stream",
     "text": [
      "\n",
      " Working towards a more sustainable future 2023 Sustainability Report colesgroup Coles Group Limited ABN 11 004 089 936 x Sles Secéng Ste, Ending Hunger, Acknowledgement of Country Coles wishes to acknowledge the Traditional Custodians of Country throughout Australia.\n",
      "\n",
      " We recognise their strength and resilience and pay our respects to their Elders past and present.\n",
      "\n",
      " Coles extends that respect to all Aboriginal and Torres Strait Islander people, and recognises their rich cultures and their continuing connection fo land and waters.\n",
      "\n",
      " Aboriginal and Torres Strait Islander people are advised that this report may contain names and images of people who are deceased.\n",
      "\n",
      " All references to Indigenous and First Nations people in this report are intended to include Aboriginal and/or Torres Strait Islander people.\n",
      "\n",
      " Feedback We welcome feedback on this report.\n",
      "\n",
      " For more information or to provide comments, please contact us at: @ sustainability@coles.com.au Anyone seeking to use information in this Sustainability Report to draw conclusions from the data presented should email: @ investor.relations@colesgroup.com.au Cover image Forward-looking statements This report contains forward-looking statements in relation to Coles Group Limited (‘the Company’) and its controlled entities (together, ‘Coles’, ‘Coles Group’, or ‘the Group’), including statements regarding the Group's intent, belief, goals, objectives, opinions, initiatives, commitments or current expectations with respect to the Group’s business and operations, market conditions, results of operations and financial conditions, and risk management practices.\n",
      "\n",
      " This report also includes forward-looking statements regarding climate change and other environmental and energy transition scenarios.\n",
      "\n",
      " Forward-looking statements can generally be identified by the use of words such as ‘forecast’, ‘estimate’, ‘plan’, ‘will’, ‘anticipate’, ‘may’, ‘believe’, ‘should’, ‘expect’, ‘intend’, ‘outlook’, ‘guidance’ and other similar expressions.\n",
      "\n",
      " Any forward-looking statements are based on the Group’s current knowledge and assumptions, including with respect to financial, market, risk, regulatory and other relevant environments that will exist and affect the Group’s business and operations in the future.\n"
     ]
    }
   ],
   "source": [
    "# OCR PDF Reader.\n",
    "def parser_ocr(pdf_path):\n",
    "    images = convert_from_path(pdf_path)\n",
    "    extracted_text = \"\"\n",
    "    \n",
    "    for image in images:\n",
    "        text = pytesseract.image_to_string(image, lang='eng')\n",
    "        extracted_text += text\n",
    "\n",
    "    return extracted_text\n",
    "\n",
    "# Extract text from the PDF using Tesseract OCR\n",
    "text_ocr = parser_ocr(pdf_file_path)\n",
    "\n",
    "# Get sentences\n",
    "sentences = get_sentences(text_ocr)\n",
    "\n",
    "# Replace '\\n' with ' ' in each sentence\n",
    "formatted_sentences = sentence_formatter(sentences)\n",
    "\n",
    "# Print the first 10 formatted sentences\n",
    "for sentence in formatted_sentences[:10]:\n",
    "    print('\\n', sentence)"
   ]
  },
  {
   "cell_type": "markdown",
   "id": "b9cde6af",
   "metadata": {},
   "source": [
    "## OCR Con"
   ]
  },
  {
   "cell_type": "markdown",
   "id": "97bbb8cd",
   "metadata": {},
   "source": [
    "The OCR method, while efficient, appears to be overly sensitive to elements within the reports, particularly images.\n",
    "\n",
    "*Sentence 1*:\n",
    "\n",
    "Working towards a more sustainable future 2023 Sustainability Report colesgroup Coles Group Limited ABN 11 004 089 936 **x Sles Secéng Ste, Ending Hunger**, Acknowledgement of Country Coles wishes to acknowledge the Traditional Custodians of Country throughout Australia.\n",
    "\n",
    "**x Sles Secéng Ste, Ending Hunger** : From image on the cover page.\n",
    "\n",
    "Given the use-case it might be more efficient to proceed with the PDF Parser over the OCR Reader."
   ]
  },
  {
   "cell_type": "code",
   "execution_count": null,
   "id": "8cc0099e",
   "metadata": {},
   "outputs": [],
   "source": []
  }
 ],
 "metadata": {
  "kernelspec": {
   "display_name": "Python 3 (ipykernel)",
   "language": "python",
   "name": "python3"
  },
  "language_info": {
   "codemirror_mode": {
    "name": "ipython",
    "version": 3
   },
   "file_extension": ".py",
   "mimetype": "text/x-python",
   "name": "python",
   "nbconvert_exporter": "python",
   "pygments_lexer": "ipython3",
   "version": "3.10.13"
  }
 },
 "nbformat": 4,
 "nbformat_minor": 5
}
