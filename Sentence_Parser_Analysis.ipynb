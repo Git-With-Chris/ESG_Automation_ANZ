{
 "cells": [
  {
   "cell_type": "code",
   "execution_count": 1,
   "id": "b629eb6f",
   "metadata": {},
   "outputs": [],
   "source": [
    "# Import Dependencies\n",
    "import PyPDF2\n",
    "from pdf2image import convert_from_path\n",
    "import pytesseract\n",
    "import nltk\n",
    "import re\n",
    "\n",
    "# Dependeny installation\n",
    "# !pip install nltk PyPDF2\n",
    "\n",
    "# Download the required dataset for sentence tokenization\n",
    "# nltk.download('punkt')  "
   ]
  },
  {
   "cell_type": "markdown",
   "id": "7db12b19",
   "metadata": {},
   "source": [
    "# PDF to Sentence Parser"
   ]
  },
  {
   "cell_type": "markdown",
   "id": "80e4e2c0",
   "metadata": {},
   "source": [
    "### Method 1: PyPDF 2 Parser\n",
    "\n",
    "Parsing is a process that extracts data from structured or semi-structured PDFs by analyzing their internal structure and metadata. Parsing software reads the PDF file and identifies the elements and attributes that define the data, such as tags, fields, coordinates, or styles.\n",
    "\n",
    "In Method 1 we use the PyPDF2 to read the annual reports. More details can be found [here](https://pypdf2.readthedocs.io/en/3.x/)"
   ]
  },
  {
   "cell_type": "code",
   "execution_count": 16,
   "id": "08fdb9cf",
   "metadata": {},
   "outputs": [],
   "source": [
    "# PyPDF 2 Parser\n",
    "def parser_pypdf(file_path):\n",
    "    \n",
    "    text = \"\"\n",
    "    with open(file_path, 'rb') as file:\n",
    "        reader = PyPDF2.PdfReader(file)\n",
    "        num_pages = len(reader.pages)\n",
    "        \n",
    "        for page_number in range(num_pages):\n",
    "            page = reader.pages[page_number]\n",
    "            text += page.extract_text()\n",
    "            \n",
    "    return text\n",
    "\n",
    "# Function to split document into sentences\n",
    "def get_sentences(text):\n",
    "    \n",
    "    sentences = nltk.sent_tokenize(text)\n",
    "    return sentences\n",
    "\n",
    "# Function to perform text formatting operations on a list of sentences\n",
    "def sentence_formatter(sentences):\n",
    "    \n",
    "    formatted_sentences = []\n",
    "    \n",
    "    for sentence in sentences:\n",
    "        sentence = sentence.replace('\\n', ' ')\n",
    "        sentence = sentence.strip()\n",
    "        sentence = re.sub(r'\\s+', ' ', sentence)\n",
    "        \n",
    "        # Join fragmented sentences\n",
    "        if len(formatted_sentences) > 0 and not sentence[0].isupper():\n",
    "            formatted_sentences[-1] += ' ' + sentence\n",
    "        else:\n",
    "            formatted_sentences.append(sentence)\n",
    "    \n",
    "    return formatted_sentences"
   ]
  },
  {
   "cell_type": "markdown",
   "id": "4854c58b",
   "metadata": {},
   "source": [
    "### Method 2: OCR Reader\n",
    "\n",
    "OCR stands for optical character recognition, a process that converts images of text into editable and searchable text. OCR software scans the PDF file and analyzes the pixels to identify the characters and words. OCR can be useful for extracting data from scanned or image-based PDFs, such as invoices, receipts, forms, or reports. \n",
    "\n",
    "**IMPORTANT NOTE: Tesseract and poppler need to be installed and added to system PATH for error-free execution.**\n",
    "\n",
    "We use the Tesseract OCR for Method 2. More details can be accessed [here](https://github.com/tesseract-ocr/tesseract)"
   ]
  },
  {
   "cell_type": "code",
   "execution_count": 17,
   "id": "0078b3d7",
   "metadata": {},
   "outputs": [],
   "source": [
    "# OCR PDF Reader.\n",
    "def parser_ocr(pdf_path):\n",
    "    images = convert_from_path(pdf_path)\n",
    "    extracted_text = \"\"\n",
    "    \n",
    "    for image in images:\n",
    "        text = pytesseract.image_to_string(image, lang='eng')\n",
    "        extracted_text += text\n",
    "\n",
    "    return extracted_text"
   ]
  },
  {
   "cell_type": "markdown",
   "id": "e5dc7c9c",
   "metadata": {},
   "source": [
    "---"
   ]
  },
  {
   "cell_type": "markdown",
   "id": "3c609693",
   "metadata": {},
   "source": [
    "# 2023 Coles Annual Report\n",
    "\n",
    "### Method 1: PyPDF 2 Parser"
   ]
  },
  {
   "cell_type": "code",
   "execution_count": 18,
   "id": "375be128",
   "metadata": {},
   "outputs": [
    {
     "name": "stdout",
     "output_type": "stream",
     "text": [
      "\n",
      " 2023 Sustainability ReportWorking towards a more sustainable future Coles Group Limited ABN 11 004 089 936Acknowledgement of Country Coles wishes to acknowledge the Traditional Custodians of Country throughout Australia.\n",
      "\n",
      " We recognise their strength and resilience and pay our respects to their Elders past and present.\n",
      "\n",
      " Coles extends that respect to all Aboriginal and Torres Strait Islander people, and recognises their rich cultures and their continuing connection to land and waters.\n",
      "\n",
      " Aboriginal and Torres Strait Islander people are advised that this report may contain names and images of people who are deceased.\n",
      "\n",
      " All references to Indigenous and First Nations people in this report are intended to include Aboriginal and/or Torres Strait Islander people.\n",
      "\n",
      " Feedback We welcome feedback on this report.\n",
      "\n",
      " For more information or to provide comments, please contact us at: sustainability@coles.com.au Anyone seeking to use information in this Sustainability Report to draw conclusions from the data presented should email: investor.relations@colesgroup.com.auForward-looking statements This report contains forward-looking statements in relation to Coles Group Limited (‘the Company’) and its controlled entities (together, ‘Coles’, ‘Coles Group’, or ‘the Group’), including statements regarding the Group’s intent, belief, goals, objectives, opinions, initiatives, commitments or current expectations with respect to the Group’s business and operations, market conditions, results of operations and financial conditions, and risk management practices.\n",
      "\n",
      " This report also includes forward-looking statements regarding climate change and other environmental and energy transition scenarios.\n",
      "\n",
      " Forward-looking statements can generally be identified by the use of words such as ‘forecast’, ‘estimate’, ‘plan’, ‘will’, ‘anticipate’, ‘may’, ‘believe’, ‘should’, ‘expect’, ‘intend’, ‘outlook’, ‘guidance’ and other similar expressions.\n",
      "\n",
      " Any forward-looking statements are based on the Group’s current knowledge and assumptions, including with respect to financial, market, risk, regulatory and other relevant environments that will exist and affect the Group’s business and operations in the future.\n"
     ]
    }
   ],
   "source": [
    "# PDF file path to 2023 Coles Report\n",
    "pdf_file_path = \"./SampleReports/2023_Coles_Report.pdf\"\n",
    "\n",
    "# Extract text from the PDF using PyPDF\n",
    "text = parser_pypdf(pdf_file_path)\n",
    "\n",
    "# Get sentences\n",
    "sentences = get_sentences(text)\n",
    "\n",
    "# Formatting Sentences\n",
    "formatted_sentences = sentence_formatter(sentences)\n",
    "\n",
    "# Print the first 10 formatted sentences\n",
    "for sentence in formatted_sentences[:10]:\n",
    "    print('\\n', sentence)"
   ]
  },
  {
   "cell_type": "markdown",
   "id": "4e51bef6",
   "metadata": {},
   "source": [
    "### Method 2: OCR Reader"
   ]
  },
  {
   "cell_type": "code",
   "execution_count": 19,
   "id": "87fa5760",
   "metadata": {},
   "outputs": [
    {
     "name": "stdout",
     "output_type": "stream",
     "text": [
      "\n",
      " Working towards a more sustainable future 2023 Sustainability Report colesgroup Coles Group Limited ABN 11 004 089 936 x Sles Secéng Ste, Ending Hunger, Acknowledgement of Country Coles wishes to acknowledge the Traditional Custodians of Country throughout Australia.\n",
      "\n",
      " We recognise their strength and resilience and pay our respects to their Elders past and present.\n",
      "\n",
      " Coles extends that respect to all Aboriginal and Torres Strait Islander people, and recognises their rich cultures and their continuing connection fo land and waters.\n",
      "\n",
      " Aboriginal and Torres Strait Islander people are advised that this report may contain names and images of people who are deceased.\n",
      "\n",
      " All references to Indigenous and First Nations people in this report are intended to include Aboriginal and/or Torres Strait Islander people.\n",
      "\n",
      " Feedback We welcome feedback on this report.\n",
      "\n",
      " For more information or to provide comments, please contact us at: @ sustainability@coles.com.au Anyone seeking to use information in this Sustainability Report to draw conclusions from the data presented should email: @ investor.relations@colesgroup.com.au Cover image Forward-looking statements This report contains forward-looking statements in relation to Coles Group Limited (‘the Company’) and its controlled entities (together, ‘Coles’, ‘Coles Group’, or ‘the Group’), including statements regarding the Group's intent, belief, goals, objectives, opinions, initiatives, commitments or current expectations with respect to the Group’s business and operations, market conditions, results of operations and financial conditions, and risk management practices.\n",
      "\n",
      " This report also includes forward-looking statements regarding climate change and other environmental and energy transition scenarios.\n",
      "\n",
      " Forward-looking statements can generally be identified by the use of words such as ‘forecast’, ‘estimate’, ‘plan’, ‘will’, ‘anticipate’, ‘may’, ‘believe’, ‘should’, ‘expect’, ‘intend’, ‘outlook’, ‘guidance’ and other similar expressions.\n",
      "\n",
      " Any forward-looking statements are based on the Group’s current knowledge and assumptions, including with respect to financial, market, risk, regulatory and other relevant environments that will exist and affect the Group’s business and operations in the future.\n"
     ]
    }
   ],
   "source": [
    "# Extract text from the PDF using Tesseract OCR\n",
    "text_ocr = parser_ocr(pdf_file_path)\n",
    "\n",
    "# Get sentences\n",
    "sentences = get_sentences(text_ocr)\n",
    "\n",
    "# Formatting Sentences\n",
    "formatted_sentences = sentence_formatter(sentences)\n",
    "\n",
    "# Print the first 10 formatted sentences\n",
    "for sentence in formatted_sentences[:10]:\n",
    "    print('\\n', sentence)"
   ]
  },
  {
   "cell_type": "markdown",
   "id": "6f6cca8d",
   "metadata": {},
   "source": [
    "---"
   ]
  },
  {
   "cell_type": "markdown",
   "id": "de835461",
   "metadata": {},
   "source": [
    "# 2023 Kathmandu Report\n",
    "\n",
    "### Method 1: PyPDF 2 Parser"
   ]
  },
  {
   "cell_type": "code",
   "execution_count": 20,
   "id": "8cc0099e",
   "metadata": {},
   "outputs": [
    {
     "name": "stdout",
     "output_type": "stream",
     "text": [
      "\n",
      " Annual Integrated Report 2023 CONTENTS 2 OUR JOURNEY 2 Reporting approach 3 Our purpose and vision 4 Our brands 6 Highlights and lowlights for FY23 8 Our world 10 LEADERSHIP & GOVERNANCE 10 Report from the Chair 12 Group CEO report 14 Governance at KMD Brands 16 Our board 17 Our management team 18 WHAT MATTERS MOST 18 Materiality approach 20 Our material issues 22 STRATEGY 22 How we create value 24 Our strategic pillars 26 BUILDING GLOBAL BRANDS 39 ELEVATING DIGITAL 48 OPERATIONAL EXCELLENCE 58 LEAD IN ESG 60 Communities 84 Climate 96 Circularity 118 FINANCING OUR IMPACT 119 Group CFO report 122 Financial statements 168 Auditors report 172 ADDITIONAL DISCLOSURES 172 Corporate Governance Statement 184 Statutory information 189 Directory 190 GRI index 198 SASB index 202 Our partners KMD Brands acknowledges Tangata Whenua, the Indigenous Nations, First Peoples, and Custodians of the lands and waterways on which our brand head offices reside in New Zealand, Australia and the United States. 1OUR JOURNEY Reporting approach ABOUT THIS REPORT This integrated report is a review of our financial, economic, social and environmental performance for the year ending 31 July 2023.\n",
      "\n",
      " This is our second year of integrated reporting.\n",
      "\n",
      " We have prepared this report using the International <IR> Framework, which aims to communicate the full range of factors that affect an organisation’s ability to create value over time.\n",
      "\n",
      " It requires a high level of transparency and a commitment to robust disclosure around Environmental, Social and Governance (ESG) commitments.\n",
      "\n",
      " KPMG has audited the financial statements in this report.\n",
      "\n",
      " Financial information has been prepared in accordance with New Zealand Equivalents to International Financial Reporting Standards (NZ IFRS) and International Financial Reporting Standards (IFRS).\n",
      "\n",
      " Non-financial information is reported with reference to the Global Reporting Initiative (GRI) Universal Standards.\n",
      "\n",
      " This year, we have built on our climate disclosures, referring to the structure of the Aotearoa New Zealand Climate Standards (NZ CS) as we build towards our first disclosure under the NZ CS for FY24.\n",
      "\n",
      " We will continue to improve and increase our reporting of our climate-related risks and opportunities and how they are reflected in our business strategy as we prepare for the reporting requirements under the NZ CS.\n",
      "\n",
      " This report also includes our Group carbon emissions data, with assurance provided by Toitū Envirocare, a New Zealand-based company helping businesses reduce their carbon footprint.\n"
     ]
    }
   ],
   "source": [
    "# PDF file path to 2023 Kathmandu Report\n",
    "pdf_file_path = \"./SampleReports/2023_KMD_Report.pdf\"\n",
    "\n",
    "# Extract text from the PDF using PyPDF\n",
    "text = parser_pypdf(pdf_file_path)\n",
    "\n",
    "# Get sentences\n",
    "sentences = get_sentences(text)\n",
    "\n",
    "# Formatting Sentences\n",
    "formatted_sentences = sentence_formatter(sentences)\n",
    "\n",
    "# Print the first 10 formatted sentences\n",
    "for sentence in formatted_sentences[:10]:\n",
    "    print('\\n', sentence)"
   ]
  },
  {
   "cell_type": "markdown",
   "id": "d34b478a",
   "metadata": {},
   "source": [
    "### Method 2: OCR Reader"
   ]
  },
  {
   "cell_type": "code",
   "execution_count": 21,
   "id": "fc5429d2",
   "metadata": {},
   "outputs": [
    {
     "name": "stdout",
     "output_type": "stream",
     "text": [
      "\n",
      " BRANDS KMD Brands acknowledges Tangata Whenua, the Indigenous Nations, First Peoples, and Custodians of the lands and waterways on which our brand head offices reside in New Zealand, Australia and the United States.\n",
      "\n",
      " CONTENTS OUR JOURNEY Reporting approach Our purpose and vision Our brands Highlights and lowlights for FY23 Our world LEADERSHIP & GOVERNANCE Report from the Chair Group CEO report Governance at KMD Brands Our board Our management team Materiality approach Our material issues STRATEGY How we create value Our strategic pillars BUILDING GLOBAL BRANDS ELEVATING DIGITAL LEAD IN ESG Communities Climate Circularity FINANCING OUR IMPACT Group CFO report Financial statements Auditors report ADDITIONAL DISCLOSURES Corporate Governance Statement Statutory information Directory GRI index SASB index Our partners KMD BRANDS — OUR JOURNEY OUR JOURNEY Reporting approach BRANDS ABOUT THIS REPORT This integrated report is a review of our financial, economic, social and environmental performance for the year ending 31 July 2023.\n",
      "\n",
      " This is our second year of integrated reporting.\n",
      "\n",
      " We have prepared this report using the International <IR> Framework, which aims to communicate the full range of factors that affect an organisation's ability to create value over time.\n",
      "\n",
      " It requires a high level of transparency and a commitment to robust disclosure around Environmental, Social and Governance (ESG) commitments.\n",
      "\n",
      " KPMG has audited the financial statements in this report.\n",
      "\n",
      " Financial information has been prepared in accordance with New Zealand Equivalents to International Financial Reporting Standards (NZ IFRS) and International Financial Reporting Standards (IFRS).\n",
      "\n",
      " Non-financial information is reported with reference to the Global Reporting Initiative (GRID Universal Standards.\n",
      "\n",
      " KMD Brands Annual Integrated Report 2023 This year, we have built on our climate disclosures, referring to the structure of the Aotearoa New Zealand Climate Standards (NZ CS) as we build towards our first disclosure under the NZ CS for FY24.\n",
      "\n",
      " We will continue to improve and increase our reporting of our climate-related risks and opportunities and how they are reflected in our business strategy as we prepare for the reporting requirements under the NZ CS.\n"
     ]
    }
   ],
   "source": [
    "# Extract text from the PDF using Tesseract OCR\n",
    "text_ocr = parser_ocr(pdf_file_path)\n",
    "\n",
    "# Get sentences\n",
    "sentences = get_sentences(text_ocr)\n",
    "\n",
    "# Formatting Sentences\n",
    "formatted_sentences = sentence_formatter(sentences)\n",
    "\n",
    "# Print the first 10 formatted sentences\n",
    "for sentence in formatted_sentences[:10]:\n",
    "    print('\\n', sentence)"
   ]
  },
  {
   "cell_type": "code",
   "execution_count": null,
   "id": "2dbf06d9",
   "metadata": {},
   "outputs": [],
   "source": []
  }
 ],
 "metadata": {
  "kernelspec": {
   "display_name": "Python 3 (ipykernel)",
   "language": "python",
   "name": "python3"
  },
  "language_info": {
   "codemirror_mode": {
    "name": "ipython",
    "version": 3
   },
   "file_extension": ".py",
   "mimetype": "text/x-python",
   "name": "python",
   "nbconvert_exporter": "python",
   "pygments_lexer": "ipython3",
   "version": "3.10.13"
  }
 },
 "nbformat": 4,
 "nbformat_minor": 5
}
